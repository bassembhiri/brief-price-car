{
 "cells": [
  {
   "cell_type": "code",
   "execution_count": 1,
   "metadata": {},
   "outputs": [],
   "source": [
    "import numpy as np\n",
    "import matplotlib.pyplot as plt\n",
    "import matplotlib\n",
    "from mpl_toolkits.mplot3d import Axes3D\n",
    "import scipy as sc\n",
    "import pandas as pd \n",
    "import seaborn as sns\n",
    "import sklearn as skl\n",
    "from sklearn.linear_model import SGDRegressor \n",
    "from sklearn.preprocessing import PolynomialFeatures\n",
    "from sklearn.preprocessing import StandardScaler\n",
    "import statsmodels.api as sm\n",
    "import pymysql\n",
    "import sqlalchemy as sql\n",
    "from sqlalchemy import create_engine\n",
    "%matplotlib inline"
   ]
  },
  {
   "cell_type": "code",
   "execution_count": null,
   "metadata": {},
   "outputs": [],
   "source": []
  },
  {
   "cell_type": "code",
   "execution_count": 2,
   "metadata": {},
   "outputs": [],
   "source": [
    "car_data = pd.read_csv('carData.csv')"
   ]
  },
  {
   "cell_type": "code",
   "execution_count": 3,
   "metadata": {},
   "outputs": [],
   "source": [
    "car_data['Transmission'] = car_data['Transmission'].astype('category').cat.codes"
   ]
  },
  {
   "cell_type": "code",
   "execution_count": 4,
   "metadata": {},
   "outputs": [
    {
     "data": {
      "text/plain": [
       "0      1\n",
       "1      1\n",
       "2      1\n",
       "3      1\n",
       "4      1\n",
       "      ..\n",
       "296    1\n",
       "297    1\n",
       "298    1\n",
       "299    1\n",
       "300    1\n",
       "Name: Transmission, Length: 301, dtype: int8"
      ]
     },
     "execution_count": 4,
     "metadata": {},
     "output_type": "execute_result"
    }
   ],
   "source": [
    "car_data['Transmission']"
   ]
  },
  {
   "cell_type": "code",
   "execution_count": 5,
   "metadata": {},
   "outputs": [
    {
     "name": "stdout",
     "output_type": "stream",
     "text": [
      "37    2003\n",
      "39    2003\n",
      "Name: Year, dtype: int64\n",
      "37    0.35\n",
      "39    2.25\n",
      "Name: Selling_Price, dtype: float64\n"
     ]
    }
   ],
   "source": [
    "df_2003 = car_data[car_data[\"Year\"]==2003]\n",
    "print(df_2003[\"Year\"])\n",
    "print(df_2003[\"Selling_Price\"])\n"
   ]
  },
  {
   "cell_type": "code",
   "execution_count": 6,
   "metadata": {},
   "outputs": [
    {
     "name": "stdout",
     "output_type": "stream",
     "text": [
      "77    2004\n",
      "Name: Year, dtype: int64\n",
      "77    1.5\n",
      "Name: Selling_Price, dtype: float64\n"
     ]
    }
   ],
   "source": [
    "df_2004 = car_data[car_data[\"Year\"]==2004]\n",
    "print(df_2004[\"Year\"])\n",
    "print(df_2004[\"Selling_Price\"])"
   ]
  },
  {
   "cell_type": "code",
   "execution_count": 7,
   "metadata": {},
   "outputs": [
    {
     "name": "stdout",
     "output_type": "stream",
     "text": [
      "54     2005\n",
      "84     2005\n",
      "92     2005\n",
      "189    2005\n",
      "Name: Year, dtype: int64\n",
      "54     2.75\n",
      "84     3.49\n",
      "92     3.51\n",
      "189    0.20\n",
      "Name: Selling_Price, dtype: float64\n",
      "47     2006\n",
      "85     2006\n",
      "200    2006\n",
      "281    2006\n",
      "Name: Year, dtype: int64\n",
      "47     1.05\n",
      "85     2.50\n",
      "200    0.10\n",
      "281    2.10\n",
      "Name: Selling_Price, dtype: float64\n",
      "192    2007\n",
      "199    2007\n",
      "Name: Year, dtype: int64\n",
      "192    0.20\n",
      "199    0.12\n",
      "Name: Selling_Price, dtype: float64\n",
      "42     2008\n",
      "94     2008\n",
      "184    2008\n",
      "185    2008\n",
      "190    2008\n",
      "194    2008\n",
      "196    2008\n",
      "Name: Year, dtype: int64\n",
      "42     1.95\n",
      "94     4.00\n",
      "184    0.25\n",
      "185    0.25\n",
      "190    0.20\n",
      "194    0.20\n",
      "196    0.17\n",
      "Name: Selling_Price, dtype: float64\n"
     ]
    }
   ],
   "source": [
    "df_2005 = car_data[car_data[\"Year\"]==2005]\n",
    "print(df_2005[\"Year\"])\n",
    "print(df_2005[\"Selling_Price\"])\n",
    "df_2006 = car_data[car_data[\"Year\"]==2006]\n",
    "print(df_2006[\"Year\"])\n",
    "print(df_2006[\"Selling_Price\"])\n",
    "df_2007 = car_data[car_data[\"Year\"]==2007]\n",
    "print(df_2007[\"Year\"])\n",
    "print(df_2007[\"Selling_Price\"])\n",
    "df_2008 = car_data[car_data[\"Year\"]==2008]\n",
    "print(df_2008[\"Year\"])\n",
    "print(df_2008[\"Selling_Price\"])\n"
   ]
  },
  {
   "cell_type": "code",
   "execution_count": 8,
   "metadata": {},
   "outputs": [
    {
     "name": "stdout",
     "output_type": "stream",
     "text": [
      "14     2009\n",
      "55     2009\n",
      "90     2009\n",
      "125    2009\n",
      "271    2009\n",
      "298    2009\n",
      "Name: Year, dtype: int64\n",
      "14     2.25\n",
      "55     3.60\n",
      "90     3.80\n",
      "125    0.90\n",
      "271    3.00\n",
      "298    3.35\n",
      "Name: Selling_Price, dtype: float64\n"
     ]
    }
   ],
   "source": [
    "df_2009 = car_data[car_data[\"Year\"]==2009]\n",
    "print(df_2009[\"Year\"])\n",
    "print(df_2009[\"Selling_Price\"])\n"
   ]
  },
  {
   "cell_type": "code",
   "execution_count": 9,
   "metadata": {},
   "outputs": [
    {
     "name": "stdout",
     "output_type": "stream",
     "text": [
      "19     2010\n",
      "28     2010\n",
      "57     2010\n",
      "67     2010\n",
      "78     2010\n",
      "86     2010\n",
      "99     2010\n",
      "148    2010\n",
      "163    2010\n",
      "179    2010\n",
      "186    2010\n",
      "197    2010\n",
      "201    2010\n",
      "273    2010\n",
      "293    2010\n",
      "Name: Year, dtype: int64\n",
      "19      2.65\n",
      "28      1.95\n",
      "57      4.75\n",
      "67      9.25\n",
      "78      5.25\n",
      "86     35.00\n",
      "99      9.65\n",
      "148     0.52\n",
      "163     0.45\n",
      "179     0.31\n",
      "186     0.25\n",
      "197     0.16\n",
      "201     3.25\n",
      "273     2.25\n",
      "293     3.25\n",
      "Name: Selling_Price, dtype: float64\n"
     ]
    }
   ],
   "source": [
    "df_2010 = car_data[car_data[\"Year\"]==2010]\n",
    "print(df_2010[\"Year\"])\n",
    "print(df_2010[\"Selling_Price\"])\n"
   ]
  },
  {
   "cell_type": "code",
   "execution_count": 10,
   "metadata": {},
   "outputs": [
    {
     "name": "stdout",
     "output_type": "stream",
     "text": [
      "3      2011\n",
      "22     2011\n",
      "25     2011\n",
      "31     2011\n",
      "35     2011\n",
      "68     2011\n",
      "71     2011\n",
      "73     2011\n",
      "121    2011\n",
      "150    2011\n",
      "160    2011\n",
      "175    2011\n",
      "176    2011\n",
      "198    2011\n",
      "203    2011\n",
      "213    2011\n",
      "225    2011\n",
      "227    2011\n",
      "270    2011\n",
      "Name: Year, dtype: int64\n",
      "3      2.85\n",
      "22     4.40\n",
      "25     3.00\n",
      "31     2.35\n",
      "35     2.95\n",
      "68     4.35\n",
      "71     4.50\n",
      "73     2.65\n",
      "121    1.05\n",
      "150    0.50\n",
      "160    0.45\n",
      "175    0.38\n",
      "176    0.35\n",
      "198    0.15\n",
      "203    2.95\n",
      "213    2.90\n",
      "225    2.70\n",
      "227    2.55\n",
      "270    4.10\n",
      "Name: Selling_Price, dtype: float64\n"
     ]
    }
   ],
   "source": [
    "df_2011=car_data[car_data[\"Year\"]==2011]\n",
    "print(df_2011[\"Year\"])\n",
    "print(df_2011[\"Selling_Price\"])\n",
    "\n"
   ]
  },
  {
   "cell_type": "code",
   "execution_count": 11,
   "metadata": {},
   "outputs": [
    {
     "name": "stdout",
     "output_type": "stream",
     "text": [
      "30     2012\n",
      "44     2012\n",
      "50     2012\n",
      "79     2012\n",
      "87     2012\n",
      "95     2012\n",
      "124    2012\n",
      "145    2012\n",
      "152    2012\n",
      "162    2012\n",
      "170    2012\n",
      "180    2012\n",
      "191    2012\n",
      "210    2012\n",
      "215    2012\n",
      "219    2012\n",
      "228    2012\n",
      "229    2012\n",
      "239    2012\n",
      "240    2012\n",
      "245    2012\n",
      "246    2012\n",
      "255    2012\n",
      "Name: Year, dtype: int64\n",
      "30      3.10\n",
      "44      1.25\n",
      "50     14.90\n",
      "79     14.50\n",
      "87      5.90\n",
      "95      5.85\n",
      "124     0.95\n",
      "145     0.60\n",
      "152     0.50\n",
      "162     0.45\n",
      "170     0.40\n",
      "180     0.30\n",
      "191     0.20\n",
      "210     3.10\n",
      "215     4.50\n",
      "219     4.50\n",
      "228     4.95\n",
      "229     3.10\n",
      "239     2.00\n",
      "240     5.35\n",
      "245     5.20\n",
      "246     3.75\n",
      "255     3.00\n",
      "Name: Selling_Price, dtype: float64\n"
     ]
    }
   ],
   "source": [
    "df_2012 = car_data[car_data[\"Year\"]==2012]\n",
    "print(df_2012[\"Year\"])\n",
    "print(df_2012[\"Selling_Price\"])"
   ]
  },
  {
   "cell_type": "code",
   "execution_count": 12,
   "metadata": {},
   "outputs": [],
   "source": [
    "car_data[\"Year\"]=2020-car_data[\"Year\"]"
   ]
  },
  {
   "cell_type": "code",
   "execution_count": 13,
   "metadata": {},
   "outputs": [
    {
     "data": {
      "text/plain": [
       "<matplotlib.collections.PathCollection at 0x7ff8226ee850>"
      ]
     },
     "execution_count": 13,
     "metadata": {},
     "output_type": "execute_result"
    },
    {
     "data": {
      "image/png": "[encoded data removed]",
      "text/plain": [
       "<Figure size 432x288 with 1 Axes>"
      ]
     },
     "metadata": {
      "needs_background": "light"
     },
     "output_type": "display_data"
    }
   ],
   "source": [
    "x1=np.array(car_data[\"Year\"])\n",
    "y=np.array(car_data[\"Selling_Price\"])\n",
    "x=x1.reshape(-1, 1)\n",
    "\n",
    "plt.scatter(x1, y) "
   ]
  },
  {
   "cell_type": "code",
   "execution_count": 14,
   "metadata": {},
   "outputs": [
    {
     "name": "stdout",
     "output_type": "stream",
     "text": [
      "Coeff R2 = 0.04997448153156914\n"
     ]
    },
    {
     "data": {
      "text/plain": [
       "[<matplotlib.lines.Line2D at 0x7ff821e97b80>]"
      ]
     },
     "execution_count": 14,
     "metadata": {},
     "output_type": "execute_result"
    },
    {
     "data": {
      "image/png": "[encoded data removed]",
      "text/plain": [
       "<Figure size 432x288 with 1 Axes>"
      ]
     },
     "metadata": {
      "needs_background": "light"
     },
     "output_type": "display_data"
    }
   ],
   "source": [
    "model2 = SGDRegressor(max_iter=1000, eta0=0.01)\n",
    "model2.fit(x,y) \n",
    "print('Coeff R2 =', model2.score(x, y))\n",
    "plt.scatter(x1, y)\n",
    "plt.plot(x, model2.predict(x), c='red',lw=3)"
   ]
  },
  {
   "cell_type": "code",
   "execution_count": 15,
   "metadata": {},
   "outputs": [
    {
     "name": "stdout",
     "output_type": "stream",
     "text": [
      "Coeff R2 = 0.05575822252065454\n"
     ]
    },
    {
     "data": {
      "text/plain": [
       "[<matplotlib.lines.Line2D at 0x7ff821e086d0>]"
      ]
     },
     "execution_count": 15,
     "metadata": {},
     "output_type": "execute_result"
    },
    {
     "data": {
      "image/png": "[encoded data removed]",
      "text/plain": [
       "<Figure size 432x288 with 1 Axes>"
      ]
     },
     "metadata": {
      "needs_background": "light"
     },
     "output_type": "display_data"
    }
   ],
   "source": [
    "model6=SGDRegressor(loss=\"squared_loss\",penalty='l2',max_iter=1000, eta0=0.01,learning_rate='adaptive',tol=1e-3)\n",
    "model6.fit(x,y) \n",
    "print('Coeff R2 =', model6.score(x, y))\n",
    "plt.scatter(x1, y)\n",
    "plt.plot(x, model6.predict(x), c='red',lw=3)"
   ]
  },
  {
   "cell_type": "code",
   "execution_count": 16,
   "metadata": {},
   "outputs": [],
   "source": [
    "Yy=np.array(car_data[\"Selling_Price\"])\n",
    "Xx=np.array(car_data[\"Year\"])\n",
    "\n",
    "Xx=Xx.reshape(-1, 1)"
   ]
  },
  {
   "cell_type": "code",
   "execution_count": 17,
   "metadata": {},
   "outputs": [],
   "source": [
    "scale = StandardScaler()\n",
    "Xx_scaled = scale.fit_transform(Xx)"
   ]
  },
  {
   "cell_type": "code",
   "execution_count": 18,
   "metadata": {},
   "outputs": [
    {
     "name": "stdout",
     "output_type": "stream",
     "text": [
      "Coeff R2 = 0.055757418022625016\n"
     ]
    },
    {
     "data": {
      "text/plain": [
       "[<matplotlib.lines.Line2D at 0x7ff821debe50>]"
      ]
     },
     "execution_count": 18,
     "metadata": {},
     "output_type": "execute_result"
    },
    {
     "data": {
      "image/png": "[encoded data removed]",
      "text/plain": [
       "<Figure size 432x288 with 1 Axes>"
      ]
     },
     "metadata": {
      "needs_background": "light"
     },
     "output_type": "display_data"
    }
   ],
   "source": [
    "modelscaled=SGDRegressor(loss=\"squared_loss\",penalty='l2',max_iter=np.ceil(10**6 / len(Yy)), eta0=0.01,learning_rate='adaptive',tol=1e-3)\n",
    "modelscaled.fit(Xx_scaled,Yy) \n",
    "print('Coeff R2 =', modelscaled.score(Xx_scaled, Yy))\n",
    "plt.scatter(Xx_scaled, Yy)\n",
    "plt.plot(Xx_scaled, modelscaled.predict(Xx_scaled), c='red',lw=3)"
   ]
  },
  {
   "cell_type": "code",
   "execution_count": 19,
   "metadata": {},
   "outputs": [
    {
     "data": {
      "image/png": "[encoded data removed]",
      "text/plain": [
       "<Figure size 432x288 with 1 Axes>"
      ]
     },
     "metadata": {
      "needs_background": "light"
     },
     "output_type": "display_data"
    }
   ],
   "source": [
    "p = np.polyfit(x1,y,1)\n",
    "\n",
    "f = np.poly1d(p)                # So we can call f(x)\n",
    "fig = plt.figure()\n",
    "ax  = fig.add_subplot(111)\n",
    "plt.plot(x1, y, 'bo', label=\"Data\")\n",
    "plt.plot(x1,f(x), 'r',label=\"Polyfit\")\n",
    "#plt.plot(x, model6.predict(x), c='k',lw=3)\n",
    "plt.show()"
   ]
  },
  {
   "cell_type": "code",
   "execution_count": 20,
   "metadata": {},
   "outputs": [],
   "source": [
    "Y=car_data[\"Selling_Price\"]\n",
    "X=car_data[[\"Year\",\"Kms_Driven\"]]"
   ]
  },
  {
   "cell_type": "code",
   "execution_count": 21,
   "metadata": {},
   "outputs": [],
   "source": [
    "scale = StandardScaler()\n",
    "X_scaled = scale.fit_transform(X[[\"Year\",\"Kms_Driven\"]])\n"
   ]
  },
  {
   "cell_type": "code",
   "execution_count": 22,
   "metadata": {},
   "outputs": [
    {
     "name": "stdout",
     "output_type": "stream",
     "text": [
      "Coeff R2 = 0.08786339921303332\n",
      "Our multiple linear model had an R^2 of: 0.088\n"
     ]
    },
    {
     "data": {
      "image/png": "[encoded data removed]",
      "text/plain": [
       "<Figure size 432x288 with 1 Axes>"
      ]
     },
     "metadata": {
      "needs_background": "light"
     },
     "output_type": "display_data"
    },
    {
     "data": {
      "image/png": "[encoded data removed]",
      "text/plain": [
       "<Figure size 432x288 with 1 Axes>"
      ]
     },
     "metadata": {
      "needs_background": "light"
     },
     "output_type": "display_data"
    }
   ],
   "source": [
    "modelmulti=SGDRegressor(loss=\"squared_loss\",penalty='l2',max_iter=1000, eta0=0.001,learning_rate='adaptive',tol=1e-3)\n",
    "modelmulti.fit(X_scaled,Y) \n",
    "print('Coeff R2 =', modelmulti.score(X_scaled, Y))\n",
    "print('Our multiple linear model had an R^2 of: %0.3f'% modelmulti.score(X_scaled, Y))\n",
    "fig = plt.figure()\n",
    "ax = fig.add_subplot(1,2,1, projection='3d')\n",
    "ax.plot_trisurf(X_scaled[:,0], X_scaled[:,1],modelmulti.predict(X_scaled))\n",
    "plt.show()\n",
    "fig = plt.figure()\n",
    "ax1 = fig.add_subplot(1,2,1, projection='3d')\n",
    "ax1.scatter(car_data[\"Year\"], car_data[\"Kms_Driven\"], car_data[\"Selling_Price\"], c='r', marker='^')\n",
    " \n",
    "ax1.set_xlabel('Year')\n",
    "ax1.set_ylabel('Kms_Driven')\n",
    "ax1.set_zlabel('Selling_Price')\n",
    "plt.show()"
   ]
  },
  {
   "cell_type": "code",
   "execution_count": 23,
   "metadata": {},
   "outputs": [
    {
     "data": {
      "text/plain": [
       "<matplotlib.collections.PathCollection at 0x7ff820bf3a30>"
      ]
     },
     "execution_count": 23,
     "metadata": {},
     "output_type": "execute_result"
    },
    {
     "data": {
      "image/png": "[encoded data removed]",
      "text/plain": [
       "<Figure size 432x288 with 1 Axes>"
      ]
     },
     "metadata": {
      "needs_background": "light"
     },
     "output_type": "display_data"
    }
   ],
   "source": [
    "plt.scatter(X_scaled[:,0],modelmulti.predict(X_scaled),c='red')\n",
    "plt.scatter(X_scaled[:,0],Y,c='yellow')"
   ]
  },
  {
   "cell_type": "code",
   "execution_count": 24,
   "metadata": {},
   "outputs": [
    {
     "data": {
      "text/plain": [
       "<matplotlib.collections.PathCollection at 0x7ff820b44880>"
      ]
     },
     "execution_count": 24,
     "metadata": {},
     "output_type": "execute_result"
    },
    {
     "data": {
      "image/png": "[encoded data removed]",
      "text/plain": [
       "<Figure size 432x288 with 1 Axes>"
      ]
     },
     "metadata": {
      "needs_background": "light"
     },
     "output_type": "display_data"
    }
   ],
   "source": [
    "plt.scatter(X_scaled[:,1],modelmulti.predict(X_scaled),c='red')\n",
    "plt.scatter(X_scaled[:,1],Y,c='yellow')\n",
    "\n"
   ]
  },
  {
   "cell_type": "code",
   "execution_count": 25,
   "metadata": {},
   "outputs": [
    {
     "name": "stdout",
     "output_type": "stream",
     "text": [
      "                                 OLS Regression Results                                \n",
      "=======================================================================================\n",
      "Dep. Variable:          Selling_Price   R-squared (uncentered):                   0.304\n",
      "Model:                            OLS   Adj. R-squared (uncentered):              0.300\n",
      "Method:                 Least Squares   F-statistic:                              65.37\n",
      "Date:                Thu, 05 Nov 2020   Prob (F-statistic):                    2.82e-24\n",
      "Time:                        14:04:04   Log-Likelihood:                         -953.48\n",
      "No. Observations:                 301   AIC:                                      1911.\n",
      "Df Residuals:                     299   BIC:                                      1918.\n",
      "Df Model:                           2                                                  \n",
      "Covariance Type:            nonrobust                                                  \n",
      "==============================================================================\n",
      "                 coef    std err          t      P>|t|      [0.025      0.975]\n",
      "------------------------------------------------------------------------------\n",
      "Year           0.4262      0.077      5.560      0.000       0.275       0.577\n",
      "Kms_Driven  1.831e-05      1e-05      1.830      0.068   -1.38e-06     3.8e-05\n",
      "==============================================================================\n",
      "Omnibus:                      131.945   Durbin-Watson:                   1.200\n",
      "Prob(Omnibus):                  0.000   Jarque-Bera (JB):              599.049\n",
      "Skew:                           1.821   Prob(JB):                    8.28e-131\n",
      "Kurtosis:                       8.874   Cond. No.                     1.24e+04\n",
      "==============================================================================\n",
      "\n",
      "Notes:\n",
      "[1] R² is computed without centering (uncentered) since the model does not contain a constant.\n",
      "[2] Standard Errors assume that the covariance matrix of the errors is correctly specified.\n",
      "[3] The condition number is large, 1.24e+04. This might indicate that there are\n",
      "strong multicollinearity or other numerical problems.\n"
     ]
    }
   ],
   "source": [
    "est = sm.OLS(Y, X).fit()\n",
    " \n",
    "print (est.summary())"
   ]
  },
  {
   "cell_type": "code",
   "execution_count": 26,
   "metadata": {},
   "outputs": [],
   "source": [
    "car_data['Seller_Type'] = car_data['Seller_Type'].astype('category')"
   ]
  },
  {
   "cell_type": "code",
   "execution_count": 27,
   "metadata": {},
   "outputs": [
    {
     "data": {
      "text/plain": [
       "0      Dealer\n",
       "1      Dealer\n",
       "2      Dealer\n",
       "3      Dealer\n",
       "4      Dealer\n",
       "        ...  \n",
       "296    Dealer\n",
       "297    Dealer\n",
       "298    Dealer\n",
       "299    Dealer\n",
       "300    Dealer\n",
       "Name: Seller_Type, Length: 301, dtype: category\n",
       "Categories (2, object): ['Dealer', 'Individual']"
      ]
     },
     "execution_count": 27,
     "metadata": {},
     "output_type": "execute_result"
    }
   ],
   "source": [
    "car_data['Seller_Type']\n"
   ]
  },
  {
   "cell_type": "code",
   "execution_count": 28,
   "metadata": {},
   "outputs": [
    {
     "ename": "NameError",
     "evalue": "name 'n_iter_' is not defined",
     "output_type": "error",
     "traceback": [
      "\u001b[0;31m---------------------------------------------------------------------------\u001b[0m",
      "\u001b[0;31mNameError\u001b[0m                                 Traceback (most recent call last)",
      "\u001b[0;32m<ipython-input-28-bab6a2035a1e>\u001b[0m in \u001b[0;36m<module>\u001b[0;34m\u001b[0m\n\u001b[0;32m----> 1\u001b[0;31m \u001b[0mn_iter_\u001b[0m\u001b[0;34m\u001b[0m\u001b[0;34m\u001b[0m\u001b[0m\n\u001b[0m",
      "\u001b[0;31mNameError\u001b[0m: name 'n_iter_' is not defined"
     ]
    }
   ],
   "source": [
    "n_iter_"
   ]
  },
  {
   "cell_type": "code",
   "execution_count": null,
   "metadata": {},
   "outputs": [],
   "source": []
  }
 ],
 "metadata": {
  "kernelspec": {
   "display_name": "Python 3",
   "language": "python",
   "name": "python3"
  },
  "language_info": {
   "codemirror_mode": {
    "name": "ipython",
    "version": 3
   },
   "file_extension": ".py",
   "mimetype": "text/x-python",
   "name": "python",
   "nbconvert_exporter": "python",
   "pygments_lexer": "ipython3",
   "version": "3.8.5"
  }
 },
 "nbformat": 4,
 "nbformat_minor": 4
}
